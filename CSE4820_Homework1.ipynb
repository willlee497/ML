{
 "cells": [
  {
   "cell_type": "markdown",
   "id": "e0bee496",
   "metadata": {},
   "source": [
    "# CSE4820: Homework 1\n"
   ]
  },
  {
   "cell_type": "markdown",
   "id": "c5ee4703",
   "metadata": {},
   "source": [
    "\n",
    "---\n",
    "\n",
    "**Due**: Mon, Feburary 24, 11:59 PM\n",
    "\n",
    "**Total Points**: 20\n",
    "\n",
    "\n",
    "**How to submit**: Create a zip folder named \"Homework1_your name\". Include the `.ipynb` file with your answers PLUS its `.html` file as a backup. \n",
    "\n",
    "**Important**: The places that require your code answer are marked with `\"# YOUR CODE\"` comments. Do not remove `\"# YOUR CODE\"`marks.\n",
    "\n",
    "\n",
    "Good Luck!\n",
    "\n",
    "---\n",
    "\n",
    "## Name: \n",
    "\n",
    "---"
   ]
  },
  {
   "cell_type": "markdown",
   "id": "a3f4efba",
   "metadata": {},
   "source": [
    "## Part 1: Conceptual Questions\n",
    "---\n",
    "**1)** [2 pts] What is the difference between the following pairs?\n",
    "\n",
    "(a) Supervised and unsupervised learning"
   ]
  },
  {
   "cell_type": "code",
   "execution_count": null,
   "id": "99a18204",
   "metadata": {},
   "outputs": [],
   "source": [
    "Supervised learning is when algorithms are trained on labeled data, meaning that each input comes with a corresponding correct output, enabling the system to learn and make predictions for new, unseen data. In contrast, unsupervised learning involves training algorithms on data without explicit labels, allowing the model to identify hidden patterns or groupings within the data independently."
   ]
  },
  {
   "cell_type": "markdown",
   "id": "ef13f2d9",
   "metadata": {},
   "source": [
    "(b) Classification and Regression"
   ]
  },
  {
   "cell_type": "code",
   "execution_count": null,
   "id": "3c30609e",
   "metadata": {},
   "outputs": [],
   "source": [
    "Classification assigns inputs to distinct, discrete categories (such as labeling an email as spam or not spam), whereas regression predicts continuous numerical values (like estimating house prices based on various features)."
   ]
  },
  {
   "cell_type": "markdown",
   "id": "f8144715",
   "metadata": {},
   "source": [
    "**2)** [2 pts] Identify the type of following data mining tasks:\n",
    "1. Predicting whether a loan applicant is likely to default on their payments.\n",
    "2. Grouping customers based on their browsing behavior on an e-commerce website.\t\n",
    "3. Discovering patterns in customer purchase data to recommend related products.\t\n",
    "4. Estimating the sales volume of a product based on marketing expenditure and competitor prices\n",
    "\t\n"
   ]
  },
  {
   "cell_type": "code",
   "execution_count": null,
   "id": "e2e10214",
   "metadata": {},
   "outputs": [],
   "source": [
    "1)Classification Task: Predicting whether a loan applicant is likely to default is a classification problem since it involves assigning a discrete label (default or not).\n",
    "2)Clustering Task: Grouping customers based on their browsing behavior is a clustering problem.\n",
    "3)Association Rule: Discovering patterns in customer purchase data to recommend related products involves association rule mining, which identifies relationships between items in large datasets.\n",
    "4)Regression Task: Estimating the sales volume of a product based on marketing expenditure and competitor prices is a regression problem, as it involves predicting a continuous numerical value.\n"
   ]
  },
  {
   "cell_type": "markdown",
   "id": "0134eae7",
   "metadata": {},
   "source": [
    "**3)** [2 pts] Knowing your attributes. Classify the following attributes as \n",
    "- Binary, discrete, or continuous. \n",
    "- Nominal or ordinal (if qualitative), or Interval or ratio-scaled (if quantitative) \n",
    "\n",
    "Some cases may have more than one interpretation. Briefly indicate your reasoning for all your answers. Example: Age in years. Answer: Discrete, quantitative, ratio. \n",
    "1. Customer satisfaction rating (1 to 5) \n",
    "2. Temperature in Celsius \n",
    "3. Social Security Number \n",
    "4. Blood type (A, B, AB, O)"
   ]
  },
  {
   "cell_type": "code",
   "execution_count": null,
   "id": "2c7da5a9",
   "metadata": {},
   "outputs": [],
   "source": [
    "1)Discrete, Ordinal, Qualitative\n",
    "2)Continuous, Interval, Quantitative\n",
    "3)Discrete, Nominal, Qualitative\n",
    "4)Discrete, Nominal, Qualitative"
   ]
  },
  {
   "cell_type": "markdown",
   "id": "ea56a8c7",
   "metadata": {},
   "source": [
    "**4)** [2 pts] Dissimilarity measures. Consider the below 2 rows from the Iris dataset. What is the Manhattan and Supremum distance between the two objects?"
   ]
  },
  {
   "cell_type": "code",
   "execution_count": null,
   "id": "df5b41d5",
   "metadata": {},
   "outputs": [],
   "source": [
    "+---------------+-------------+------------+-------------+------------+\n",
    "| Species       | Sepal length | Sepal width | Petal length | Petal width |\n",
    "+---------------+-------------+------------+-------------+------------+\n",
    "| Iris Setosa   | 4.9         | 3.0        | 1.4         | 0.2        |\n",
    "| Iris Versicolor | 5.6       | 2.5        | 3.9         | 1.1        |\n",
    "+---------------+-------------+------------+-------------+------------+\n",
    "\n",
    "abs(4.9-5.6)\n",
    "abs(3.0-2.5)\n",
    "abs(1.4-3.9)\n",
    "abs(.2-1.1)\n",
    "sum of all values is 4.6 (manhattan distance), then out of the largest values, the 2.5 which is the Supremum distance."
   ]
  },
  {
   "cell_type": "markdown",
   "id": "a38de5dd",
   "metadata": {},
   "source": [
    "**5)** [2 pt] Name four data issue problems that we need to address in data pre-processing."
   ]
  },
  {
   "cell_type": "code",
   "execution_count": null,
   "id": "71d807b2",
   "metadata": {},
   "outputs": [],
   "source": [
    "->Outliers\n",
    "->missing values\n",
    "->noisy data (random errors)\n",
    "->duplicate values or inconsistent data \n"
   ]
  },
  {
   "cell_type": "markdown",
   "id": "5334c73a",
   "metadata": {},
   "source": [
    "**6)** [1 pt] What is stratified sampling?"
   ]
  },
  {
   "cell_type": "code",
   "execution_count": null,
   "id": "7bff5852",
   "metadata": {},
   "outputs": [],
   "source": [
    "Stratified sampling is a probability sampling method where the population is divided into subgroups, called strata, based on specific characteristics, and then random samples are drawn from each stratum to ensure that all segments of the population are proportionally represented."
   ]
  },
  {
   "cell_type": "markdown",
   "id": "8b7ef0a7",
   "metadata": {},
   "source": [
    "**7)** [1 pt] True / False?\n",
    "1. The lower range of entropy indicates complete certainty \n",
    "2. Mutual information between variables indicates the degree of dependency between them \n"
   ]
  },
  {
   "cell_type": "code",
   "execution_count": null,
   "id": "7c7b05ae",
   "metadata": {},
   "outputs": [],
   "source": [
    "1)True\n",
    "2)True"
   ]
  },
  {
   "cell_type": "markdown",
   "id": "be97c55c",
   "metadata": {},
   "source": [
    "## Part 2: Coding Questions\n",
    "---\n",
    "**8)** [2 pts] You are given a following NumPy array as following.Write Python code to extract the second row of arr and calculate the sum of its elements. Reshape the array into a 1D array and find the mean of all elements."
   ]
  },
  {
   "cell_type": "code",
   "execution_count": null,
   "id": "28fa0e11",
   "metadata": {},
   "outputs": [],
   "source": [
    "import numpy as np\n",
    "arr = np.array([[2, 4, 6], [8, 10, 12], [14, 16, 18]])\n",
    "# YOUR CODE\n",
    "second = arr[1]\n",
    "sum_2 = np.sum(second)\n",
    "\n",
    "arr_1d = arr.flatten() \n",
    "mean_all = np.mean(arr_1d)"
   ]
  },
  {
   "cell_type": "markdown",
   "id": "80e5a834",
   "metadata": {},
   "source": [
    "**9)** [2 pts] Given the following Pandas DataFrame, write a Pandas command to filter rows where Score is greater than 80. Add a new column called Pass that marks \"Yes\" if the Score is 80 or above, otherwise \"No\"."
   ]
  },
  {
   "cell_type": "code",
   "execution_count": null,
   "id": "0f43b959",
   "metadata": {},
   "outputs": [],
   "source": [
    "import pandas as pd\n",
    "data = {'Name': ['Alice', 'Bob', 'Charlie', 'David'],\n",
    "        'Age': [24, 27, 22, 32],\n",
    "        'Score': [85, 78, 90, 72]}\n",
    "df = pd.DataFrame(data)\n",
    "# YOUR CODE\n",
    "filtered_df = df[df['Score'] > 80].copy()\n",
    "filtered_df['Pass'] = filtered_df['Score'].apply(lambda x: \"Yes\" if x >= 80 else \"No\")"
   ]
  },
  {
   "cell_type": "markdown",
   "id": "3ba62e0e",
   "metadata": {},
   "source": [
    "**10)** [2 pts] You are given a DataFrame with missing values. Write a Pandas command to replace all NaN values in column A with the mean of column A. Drop any row that contains a missing value.\n"
   ]
  },
  {
   "cell_type": "code",
   "execution_count": null,
   "id": "937f98ef",
   "metadata": {},
   "outputs": [],
   "source": [
    "df = pd.DataFrame({'A': [10, np.nan, 30, 40], \n",
    "                   'B': [np.nan, 20, 30, 40]})\n",
    "# YOUR CODE\n",
    "df['A'] = df['A'].fillna(df['A'].mean())\n",
    "\n",
    "df = df.dropna()"
   ]
  },
  {
   "cell_type": "markdown",
   "id": "aba919f0",
   "metadata": {},
   "source": [
    "**11)** [2 pts] You have a NumPy array and want to convert it into a Pandas DataFrame. Convert this NumPy array into a Pandas DataFrame with column names \"A\", \"B\", and \"C\". Compute the sum of each column using Pandas functions."
   ]
  },
  {
   "cell_type": "code",
   "execution_count": null,
   "id": "b9e9f120",
   "metadata": {},
   "outputs": [],
   "source": [
    "arr = np.array([[1, 2, 3], [4, 5, 6], [7, 8, 9]])\n",
    "# YOUR CODE\n",
    "df = pd.DataFrame(arr, columns=[\"A\", \"B\", \"C\"])\n",
    "column_sums = df.sum()"
   ]
  }
 ],
 "metadata": {
  "kernelspec": {
   "display_name": "Python 3 (ipykernel)",
   "language": "python",
   "name": "python3"
  },
  "language_info": {
   "codemirror_mode": {
    "name": "ipython",
    "version": 3
   },
   "file_extension": ".py",
   "mimetype": "text/x-python",
   "name": "python",
   "nbconvert_exporter": "python",
   "pygments_lexer": "ipython3",
   "version": "3.9.7"
  }
 },
 "nbformat": 4,
 "nbformat_minor": 5
}
