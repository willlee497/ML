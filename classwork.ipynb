{
 "cells": [
  {
   "cell_type": "code",
   "execution_count": 12,
   "metadata": {
    "executionInfo": {
     "elapsed": 40,
     "status": "ok",
     "timestamp": 1741725471822,
     "user": {
      "displayName": "Mars",
      "userId": "12362000622450899310"
     },
     "user_tz": 240
    },
    "id": "jrnNDI1z208g"
   },
   "outputs": [],
   "source": [
    "from sklearn.model_selection import train_test_split, GridSearchCV\n",
    "from mlxtend.evaluate import PredefinedHoldoutSplit\n",
    "from sklearn.pipeline import make_pipeline\n",
    "from sklearn.datasets import load_iris\n",
    "from sklearn.preprocessing import StandardScaler\n",
    "from sklearn.neighbors import KNeighborsClassifier\n",
    "import numpy as np"
   ]
  },
  {
   "cell_type": "code",
   "execution_count": null,
   "metadata": {
    "executionInfo": {
     "elapsed": 11,
     "status": "ok",
     "timestamp": 1741725473230,
     "user": {
      "displayName": "Mars",
      "userId": "12362000622450899310"
     },
     "user_tz": 240
    },
    "id": "GceH-S2-26Jw"
   },
   "outputs": [],
   "source": [
    "iris = load_iris()\n",
    "X, y = iris.data, iris.target\n",
    "X_train_valid, X_test, y_train_valid, y_test = train_test_split(\n",
    "    X, y, test_size=0.2, shuffle=True, random_state=123, stratify=y\n",
    ")\n",
    "\n",
    "train_ind, valid_ind = train_test_split(\n",
    "    np.arange(X_train_valid.shape[0]), test_size=0.2, shuffle=True, random_state=123, stratify=y_train_valid\n",
    ")"
   ]
  },
  {
   "cell_type": "code",
   "execution_count": 14,
   "metadata": {
    "colab": {
     "base_uri": "https://localhost:8080/",
     "height": 373
    },
    "executionInfo": {
     "elapsed": 92,
     "status": "error",
     "timestamp": 1741725757000,
     "user": {
      "displayName": "Mars",
      "userId": "12362000622450899310"
     },
     "user_tz": 240
    },
    "id": "qA2_-xvS51Up",
    "outputId": "a2678d10-6372-498e-c3d2-2eda9dfc099b"
   },
   "outputs": [
    {
     "name": "stdout",
     "output_type": "stream",
     "text": [
      "Best parameters: {'kneighborsclassifier__n_neighbors': 1, 'kneighborsclassifier__p': 1}\n",
      "Best cross-validation score: 1.0\n"
     ]
    }
   ],
   "source": [
    "pipe = make_pipeline(StandardScaler(), KNeighborsClassifier())\n",
    "\n",
    "params = {'kneighborsclassifier__n_neighbors': [1, 3, 5],\n",
    "          'kneighborsclassifier__p': [1, 2]}\n",
    "split_array = np.full(len(y_train_valid), -1)  #marked all training as -1\n",
    "split_array[valid_ind] = 0 #marking valid. indicies as 0\n",
    "split = PredefinedHoldoutSplit(split_array)\n",
    "\n",
    "grid = GridSearchCV(pipe, param_grid=params, cv=split)\n",
    "grid.fit(X_train_valid, y_train_valid)\n",
    "\n",
    "grid.cv\n",
    "print(\"Best parameters:\", grid.best_params_)\n",
    "print(\"Best cross-validation score:\", grid.best_score_)"
   ]
  },
  {
   "cell_type": "code",
   "execution_count": 15,
   "metadata": {
    "executionInfo": {
     "elapsed": 1,
     "status": "ok",
     "timestamp": 1741725107814,
     "user": {
      "displayName": "Mars",
      "userId": "12362000622450899310"
     },
     "user_tz": 240
    },
    "id": "GqyB2Sb26AV-"
   },
   "outputs": [
    {
     "name": "stdout",
     "output_type": "stream",
     "text": [
      "Test Accuracy: 90.00%\n"
     ]
    }
   ],
   "source": [
    "clf = grid.best_estimator_\n",
    "clf.fit(X_train_valid, y_train_valid)\n",
    "print('Test Accuracy: %.2f%%' % (clf.score(X_test, y_test) * 100))\n"
   ]
  }
 ],
 "metadata": {
  "colab": {
   "authorship_tag": "ABX9TyOnCAUja5eJxT5B/IHdfxPm",
   "provenance": []
  },
  "kernelspec": {
   "display_name": "Python 3",
   "name": "python3"
  },
  "language_info": {
   "codemirror_mode": {
    "name": "ipython",
    "version": 3
   },
   "file_extension": ".py",
   "mimetype": "text/x-python",
   "name": "python",
   "nbconvert_exporter": "python",
   "pygments_lexer": "ipython3",
   "version": "3.12.1"
  }
 },
 "nbformat": 4,
 "nbformat_minor": 0
}
